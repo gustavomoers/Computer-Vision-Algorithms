{
 "cells": [
  {
   "cell_type": "code",
   "execution_count": 24,
   "id": "c0708a88",
   "metadata": {
    "ExecuteTime": {
     "end_time": "2022-11-18T19:17:21.217121Z",
     "start_time": "2022-11-18T19:17:21.169432Z"
    }
   },
   "outputs": [],
   "source": [
    "# Imports\n",
    "import os\n",
    "import numpy as np\n",
    "import pandas as pd\n",
    "import tensorflow as tf\n",
    "from tensorflow import keras\n",
    "\n",
    "%matplotlib inline\n",
    "import matplotlib as mpl\n",
    "import matplotlib.pyplot as plt\n",
    "mpl.rc('axes', labelsize=14)\n",
    "mpl.rc('xtick', labelsize=12)\n",
    "mpl.rc('ytick', labelsize=12)\n",
    "\n",
    "\n",
    "np.random.seed(42)\n",
    "tf.random.set_seed(42)"
   ]
  },
  {
   "cell_type": "code",
   "execution_count": 25,
   "id": "fcfcccc9",
   "metadata": {
    "ExecuteTime": {
     "end_time": "2022-11-18T19:17:21.406811Z",
     "start_time": "2022-11-18T19:17:21.346884Z"
    }
   },
   "outputs": [
    {
     "name": "stdout",
     "output_type": "stream",
     "text": [
      "Author: Gustavo M\n",
      "\n",
      "matplotlib: 3.2.1\n",
      "numpy     : 1.19.0\n",
      "json      : 2.0.9\n",
      "tensorflow: 2.2.0\n",
      "pandas    : 1.0.5\n",
      "\n"
     ]
    }
   ],
   "source": [
    "# Versões dos pacotes usados neste jupyter notebook\n",
    "%reload_ext watermark\n",
    "%watermark -a \"Gustavo M\" --iversions"
   ]
  },
  {
   "cell_type": "code",
   "execution_count": 32,
   "id": "18cd5235",
   "metadata": {
    "ExecuteTime": {
     "end_time": "2022-11-18T19:18:23.274252Z",
     "start_time": "2022-11-18T19:18:22.031923Z"
    }
   },
   "outputs": [],
   "source": [
    "# FASHION MNIST dataset\n",
    "fashion_mnist = keras.datasets.fashion_mnist\n",
    "\n",
    "(X_train_full, y_train_full), (X_test, y_test) = fashion_mnist.load_data()\n",
    "\n",
    "X_valid, X_train = X_train_full[:5000] / 255., X_train_full[5000:] / 255.\n",
    "y_valid, y_train = y_train_full[:5000], y_train_full[5000:]\n",
    "X_test = X_test / 255."
   ]
  },
  {
   "cell_type": "code",
   "execution_count": 33,
   "id": "563d8e36",
   "metadata": {
    "ExecuteTime": {
     "end_time": "2022-11-18T19:18:23.353469Z",
     "start_time": "2022-11-18T19:18:23.278086Z"
    }
   },
   "outputs": [],
   "source": [
    "# Neural Network with 2 dense layers\n",
    "\n",
    "modelo = keras.models.Sequential()\n",
    "\n",
    "modelo.add(keras.layers.Flatten(input_shape = [28, 28]))\n",
    "\n",
    "modelo.add(keras.layers.Dense(300, activation = \"relu\"))\n",
    "\n",
    "modelo.add(keras.layers.Dense(100, activation = \"relu\"))\n",
    "\n",
    "modelo.add(keras.layers.Dense(10, activation = \"softmax\"))"
   ]
  },
  {
   "cell_type": "code",
   "execution_count": 34,
   "id": "cce7bf3c",
   "metadata": {
    "ExecuteTime": {
     "end_time": "2022-11-18T19:18:23.624852Z",
     "start_time": "2022-11-18T19:18:23.593290Z"
    }
   },
   "outputs": [],
   "source": [
    "# clearing session\n",
    "keras.backend.clear_session()"
   ]
  },
  {
   "cell_type": "code",
   "execution_count": 35,
   "id": "0cd7a794",
   "metadata": {
    "ExecuteTime": {
     "end_time": "2022-11-18T19:18:24.686041Z",
     "start_time": "2022-11-18T19:18:24.638952Z"
    }
   },
   "outputs": [],
   "source": [
    "# compiling\n",
    "modelo.compile(optimizer = \"sgd\", loss = \"sparse_categorical_crossentropy\", metrics = [\"accuracy\"])"
   ]
  },
  {
   "cell_type": "code",
   "execution_count": 36,
   "id": "b8eea0bd",
   "metadata": {
    "ExecuteTime": {
     "end_time": "2022-11-18T19:25:01.990440Z",
     "start_time": "2022-11-18T19:18:25.998369Z"
    }
   },
   "outputs": [
    {
     "name": "stdout",
     "output_type": "stream",
     "text": [
      "Epoch 1/50\n",
      "1719/1719 [==============================] - 6s 4ms/step - loss: 0.7013 - accuracy: 0.7692 - val_loss: 0.5177 - val_accuracy: 0.8196\n",
      "Epoch 2/50\n",
      "1719/1719 [==============================] - 9s 5ms/step - loss: 0.4859 - accuracy: 0.8298 - val_loss: 0.4349 - val_accuracy: 0.8504\n",
      "Epoch 3/50\n",
      "1719/1719 [==============================] - 9s 5ms/step - loss: 0.4429 - accuracy: 0.8439 - val_loss: 0.5361 - val_accuracy: 0.8000\n",
      "Epoch 4/50\n",
      "1719/1719 [==============================] - 7s 4ms/step - loss: 0.4166 - accuracy: 0.8548 - val_loss: 0.3956 - val_accuracy: 0.8642\n",
      "Epoch 5/50\n",
      "1719/1719 [==============================] - 8s 5ms/step - loss: 0.3982 - accuracy: 0.8610 - val_loss: 0.3797 - val_accuracy: 0.8676\n",
      "Epoch 6/50\n",
      "1719/1719 [==============================] - 8s 5ms/step - loss: 0.3796 - accuracy: 0.8663 - val_loss: 0.3744 - val_accuracy: 0.8702\n",
      "Epoch 7/50\n",
      "1719/1719 [==============================] - 10s 6ms/step - loss: 0.3669 - accuracy: 0.8717 - val_loss: 0.3624 - val_accuracy: 0.8744\n",
      "Epoch 8/50\n",
      "1719/1719 [==============================] - 8s 5ms/step - loss: 0.3555 - accuracy: 0.8744 - val_loss: 0.3941 - val_accuracy: 0.8600\n",
      "Epoch 9/50\n",
      "1719/1719 [==============================] - 8s 5ms/step - loss: 0.3448 - accuracy: 0.8793 - val_loss: 0.3557 - val_accuracy: 0.8720\n",
      "Epoch 10/50\n",
      "1719/1719 [==============================] - 9s 5ms/step - loss: 0.3357 - accuracy: 0.8805 - val_loss: 0.3507 - val_accuracy: 0.8752\n",
      "Epoch 11/50\n",
      "1719/1719 [==============================] - 7s 4ms/step - loss: 0.3269 - accuracy: 0.8833 - val_loss: 0.3435 - val_accuracy: 0.8752\n",
      "Epoch 12/50\n",
      "1719/1719 [==============================] - 7s 4ms/step - loss: 0.3176 - accuracy: 0.8856 - val_loss: 0.3343 - val_accuracy: 0.8790\n",
      "Epoch 13/50\n",
      "1719/1719 [==============================] - 8s 4ms/step - loss: 0.3105 - accuracy: 0.8885 - val_loss: 0.3300 - val_accuracy: 0.8858\n",
      "Epoch 14/50\n",
      "1719/1719 [==============================] - 8s 5ms/step - loss: 0.3045 - accuracy: 0.8912 - val_loss: 0.3481 - val_accuracy: 0.8740\n",
      "Epoch 15/50\n",
      "1719/1719 [==============================] - 9s 5ms/step - loss: 0.2966 - accuracy: 0.8934 - val_loss: 0.3275 - val_accuracy: 0.8814\n",
      "Epoch 16/50\n",
      "1719/1719 [==============================] - 9s 6ms/step - loss: 0.2917 - accuracy: 0.8959 - val_loss: 0.3117 - val_accuracy: 0.8832\n",
      "Epoch 17/50\n",
      "1719/1719 [==============================] - 8s 5ms/step - loss: 0.2864 - accuracy: 0.8971 - val_loss: 0.3579 - val_accuracy: 0.8710\n",
      "Epoch 18/50\n",
      "1719/1719 [==============================] - 9s 5ms/step - loss: 0.2802 - accuracy: 0.8992 - val_loss: 0.3190 - val_accuracy: 0.8864\n",
      "Epoch 19/50\n",
      "1719/1719 [==============================] - 9s 5ms/step - loss: 0.2753 - accuracy: 0.9017 - val_loss: 0.3169 - val_accuracy: 0.8846\n",
      "Epoch 20/50\n",
      "1719/1719 [==============================] - 8s 5ms/step - loss: 0.2701 - accuracy: 0.9033 - val_loss: 0.3264 - val_accuracy: 0.8820\n",
      "Epoch 21/50\n",
      "1719/1719 [==============================] - 7s 4ms/step - loss: 0.2653 - accuracy: 0.9050 - val_loss: 0.3090 - val_accuracy: 0.8882\n",
      "Epoch 22/50\n",
      "1719/1719 [==============================] - 9s 5ms/step - loss: 0.2602 - accuracy: 0.9069 - val_loss: 0.2994 - val_accuracy: 0.8902\n",
      "Epoch 23/50\n",
      "1719/1719 [==============================] - 9s 5ms/step - loss: 0.2560 - accuracy: 0.9081 - val_loss: 0.3031 - val_accuracy: 0.8892\n",
      "Epoch 24/50\n",
      "1719/1719 [==============================] - 8s 5ms/step - loss: 0.2517 - accuracy: 0.9092 - val_loss: 0.3147 - val_accuracy: 0.8814\n",
      "Epoch 25/50\n",
      "1719/1719 [==============================] - 10s 6ms/step - loss: 0.2475 - accuracy: 0.9111 - val_loss: 0.3012 - val_accuracy: 0.8912\n",
      "Epoch 26/50\n",
      "1719/1719 [==============================] - 10s 6ms/step - loss: 0.2433 - accuracy: 0.9129 - val_loss: 0.3048 - val_accuracy: 0.8884\n",
      "Epoch 27/50\n",
      "1719/1719 [==============================] - 9s 5ms/step - loss: 0.2397 - accuracy: 0.9144 - val_loss: 0.3064 - val_accuracy: 0.8894\n",
      "Epoch 28/50\n",
      "1719/1719 [==============================] - 9s 5ms/step - loss: 0.2358 - accuracy: 0.9156 - val_loss: 0.3039 - val_accuracy: 0.8896\n",
      "Epoch 29/50\n",
      "1719/1719 [==============================] - 6s 4ms/step - loss: 0.2318 - accuracy: 0.9171 - val_loss: 0.3111 - val_accuracy: 0.8876\n",
      "Epoch 30/50\n",
      "1719/1719 [==============================] - 6s 4ms/step - loss: 0.2285 - accuracy: 0.9180 - val_loss: 0.3076 - val_accuracy: 0.8904\n",
      "Epoch 31/50\n",
      "1719/1719 [==============================] - 7s 4ms/step - loss: 0.2242 - accuracy: 0.9199 - val_loss: 0.3039 - val_accuracy: 0.8878\n",
      "Epoch 32/50\n",
      "1719/1719 [==============================] - 8s 4ms/step - loss: 0.2209 - accuracy: 0.9207 - val_loss: 0.2995 - val_accuracy: 0.8928\n",
      "Epoch 33/50\n",
      "1719/1719 [==============================] - 9s 5ms/step - loss: 0.2175 - accuracy: 0.9213 - val_loss: 0.2999 - val_accuracy: 0.8932\n",
      "Epoch 34/50\n",
      "1719/1719 [==============================] - 8s 5ms/step - loss: 0.2138 - accuracy: 0.9236 - val_loss: 0.3035 - val_accuracy: 0.8884\n",
      "Epoch 35/50\n",
      "1719/1719 [==============================] - 8s 5ms/step - loss: 0.2094 - accuracy: 0.9251 - val_loss: 0.2862 - val_accuracy: 0.8934\n",
      "Epoch 36/50\n",
      "1719/1719 [==============================] - 8s 5ms/step - loss: 0.2069 - accuracy: 0.9253 - val_loss: 0.3032 - val_accuracy: 0.8938\n",
      "Epoch 37/50\n",
      "1719/1719 [==============================] - 7s 4ms/step - loss: 0.2042 - accuracy: 0.9272 - val_loss: 0.2932 - val_accuracy: 0.8946\n",
      "Epoch 38/50\n",
      "1719/1719 [==============================] - 8s 4ms/step - loss: 0.1993 - accuracy: 0.9290 - val_loss: 0.2876 - val_accuracy: 0.8946\n",
      "Epoch 39/50\n",
      "1719/1719 [==============================] - 7s 4ms/step - loss: 0.1984 - accuracy: 0.9293 - val_loss: 0.2963 - val_accuracy: 0.8940\n",
      "Epoch 40/50\n",
      "1719/1719 [==============================] - 8s 5ms/step - loss: 0.1944 - accuracy: 0.9317 - val_loss: 0.2947 - val_accuracy: 0.8914\n",
      "Epoch 41/50\n",
      "1719/1719 [==============================] - 8s 5ms/step - loss: 0.1912 - accuracy: 0.9317 - val_loss: 0.2915 - val_accuracy: 0.8916\n",
      "Epoch 42/50\n",
      "1719/1719 [==============================] - 9s 5ms/step - loss: 0.1887 - accuracy: 0.9325 - val_loss: 0.2850 - val_accuracy: 0.8964\n",
      "Epoch 43/50\n",
      "1719/1719 [==============================] - 5s 3ms/step - loss: 0.1851 - accuracy: 0.9348 - val_loss: 0.3310 - val_accuracy: 0.8772\n",
      "Epoch 44/50\n",
      "1719/1719 [==============================] - 8s 4ms/step - loss: 0.1825 - accuracy: 0.9349 - val_loss: 0.3100 - val_accuracy: 0.8868\n",
      "Epoch 45/50\n",
      "1719/1719 [==============================] - 6s 3ms/step - loss: 0.1801 - accuracy: 0.9355 - val_loss: 0.2940 - val_accuracy: 0.8922\n",
      "Epoch 46/50\n",
      "1719/1719 [==============================] - 5s 3ms/step - loss: 0.1762 - accuracy: 0.9373 - val_loss: 0.3095 - val_accuracy: 0.8910\n",
      "Epoch 47/50\n",
      "1719/1719 [==============================] - 7s 4ms/step - loss: 0.1739 - accuracy: 0.9381 - val_loss: 0.3036 - val_accuracy: 0.8956\n",
      "Epoch 48/50\n",
      "1719/1719 [==============================] - 5s 3ms/step - loss: 0.1712 - accuracy: 0.9393 - val_loss: 0.3169 - val_accuracy: 0.8886\n",
      "Epoch 49/50\n",
      "1719/1719 [==============================] - 7s 4ms/step - loss: 0.1682 - accuracy: 0.9400 - val_loss: 0.2972 - val_accuracy: 0.8890\n",
      "Epoch 50/50\n",
      "1719/1719 [==============================] - 8s 5ms/step - loss: 0.1665 - accuracy: 0.9397 - val_loss: 0.3132 - val_accuracy: 0.8898\n"
     ]
    }
   ],
   "source": [
    "# Training\n",
    "history = modelo.fit(X_train, \n",
    "                     y_train, \n",
    "                     epochs = 50, \n",
    "                     validation_data = (X_valid, y_valid))"
   ]
  },
  {
   "cell_type": "code",
   "execution_count": 37,
   "id": "edb1b234",
   "metadata": {
    "ExecuteTime": {
     "end_time": "2022-11-18T19:25:02.353428Z",
     "start_time": "2022-11-18T19:25:01.991536Z"
    }
   },
   "outputs": [
    {
     "data": {
      "image/png": "[encoded data removed]",
      "text/plain": [
       "<Figure size 800x500 with 1 Axes>"
      ]
     },
     "metadata": {},
     "output_type": "display_data"
    }
   ],
   "source": [
    "# Plotting\n",
    "pd.DataFrame(history.history).plot(figsize = (8, 5))\n",
    "plt.grid(True)\n",
    "plt.gca().set_ylim(0, 1)\n",
    "plt.show()"
   ]
  },
  {
   "cell_type": "code",
   "execution_count": 38,
   "id": "07cd1c52",
   "metadata": {
    "ExecuteTime": {
     "end_time": "2022-11-18T19:25:03.220656Z",
     "start_time": "2022-11-18T19:25:02.353428Z"
    }
   },
   "outputs": [
    {
     "name": "stdout",
     "output_type": "stream",
     "text": [
      "313/313 [==============================] - 1s 2ms/step - loss: 0.3434 - accuracy: 0.8871\n"
     ]
    },
    {
     "data": {
      "text/plain": [
       "[0.343445748090744, 0.8870999813079834]"
      ]
     },
     "execution_count": 38,
     "metadata": {},
     "output_type": "execute_result"
    }
   ],
   "source": [
    "# Evaluating\n",
    "modelo.evaluate(X_test, y_test)"
   ]
  },
  {
   "cell_type": "code",
   "execution_count": 39,
   "id": "dc7dcd49",
   "metadata": {
    "ExecuteTime": {
     "end_time": "2022-11-18T19:25:03.252493Z",
     "start_time": "2022-11-18T19:25:03.223424Z"
    }
   },
   "outputs": [],
   "source": [
    "# Class Names\n",
    "class_names = [\"T-shirt/top\", \n",
    "                 \"Trouser\", \n",
    "                 \"Pullover\", \n",
    "                 \"Dress\", \n",
    "                 \"Coat\", \n",
    "                 \"Sandal\", \n",
    "                 \"Shirt\", \n",
    "                 \"Sneaker\", \n",
    "                 \"Bag\", \n",
    "                 \"Ankle boot\"]"
   ]
  },
  {
   "cell_type": "code",
   "execution_count": 42,
   "id": "08e4214c",
   "metadata": {
    "ExecuteTime": {
     "end_time": "2022-11-18T19:25:45.110585Z",
     "start_time": "2022-11-18T19:25:44.640914Z"
    }
   },
   "outputs": [
    {
     "data": {
      "image/png": "[encoded data removed]",
      "text/plain": [
       "<Figure size 800x500 with 5 Axes>"
      ]
     },
     "metadata": {},
     "output_type": "display_data"
    }
   ],
   "source": [
    "# Plotting prediction\n",
    "X_new = X_test[:5]\n",
    "\n",
    "# E então prever a probabilidade de cada classe para cada imagem\n",
    "y_proba = modelo.predict(X_new)\n",
    "\n",
    "# Vamos gravar as previsões das 5 imagens\n",
    "y_pred = modelo.predict_classes(X_new)\n",
    "\n",
    "# Plot\n",
    "plt.figure(figsize = (8, 5))\n",
    "for index, image in enumerate(X_new):\n",
    "    plt.subplot(1, 5, index + 1)\n",
    "    plt.imshow(image, cmap = \"binary\", interpolation = \"nearest\")\n",
    "    plt.axis('off')\n",
    "    plt.title(nomes_classes[y_test[index]], fontsize = 12)\n",
    "plt.subplots_adjust(wspace = 0.2, hspace = 0.5)\n",
    "plt.show()"
   ]
  },
  {
   "cell_type": "code",
   "execution_count": null,
   "id": "0ef74be8",
   "metadata": {},
   "outputs": [],
   "source": []
  }
 ],
 "metadata": {
  "kernelspec": {
   "display_name": "Python [conda env:tf2.2]",
   "language": "python",
   "name": "conda-env-tf2.2-py"
  },
  "language_info": {
   "codemirror_mode": {
    "name": "ipython",
    "version": 3
   },
   "file_extension": ".py",
   "mimetype": "text/x-python",
   "name": "python",
   "nbconvert_exporter": "python",
   "pygments_lexer": "ipython3",
   "version": "3.7.6"
  },
  "toc": {
   "base_numbering": 1,
   "nav_menu": {},
   "number_sections": true,
   "sideBar": true,
   "skip_h1_title": false,
   "title_cell": "Table of Contents",
   "title_sidebar": "Contents",
   "toc_cell": false,
   "toc_position": {},
   "toc_section_display": true,
   "toc_window_display": false
  }
 },
 "nbformat": 4,
 "nbformat_minor": 5
}
